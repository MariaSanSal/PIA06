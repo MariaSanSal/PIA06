{
  "nbformat": 4,
  "nbformat_minor": 0,
  "metadata": {
    "colab": {
      "provenance": [],
      "include_colab_link": true
    },
    "kernelspec": {
      "name": "python3",
      "display_name": "Python 3"
    },
    "language_info": {
      "name": "python"
    }
  },
  "cells": [
    {
      "cell_type": "markdown",
      "metadata": {
        "id": "view-in-github",
        "colab_type": "text"
      },
      "source": [
        "<a href=\"https://colab.research.google.com/github/MariaSanSal/PIA06/blob/main/PIA_06_Guia_Tarea.ipynb\" target=\"_parent\"><img src=\"https://colab.research.google.com/assets/colab-badge.svg\" alt=\"Open In Colab\"/></a>"
      ]
    },
    {
      "cell_type": "markdown",
      "source": [
        "# Guía tarea PIA06 - Ajustes a modelo de aprendizaje automático"
      ],
      "metadata": {
        "id": "6VIU-UHu_3e3"
      }
    },
    {
      "cell_type": "markdown",
      "source": [
        "Puedes utilizar este notebook como guía para resolver la tarea de la unidad de trabajo 6."
      ],
      "metadata": {
        "id": "TMyxDoQhAcqC"
      }
    },
    {
      "cell_type": "markdown",
      "source": [
        "Carga la extensión de Tensorboard y el resto de paquetes necesarios.\n",
        "\n",
        "\n",
        "```\n",
        "%load_ext tensorboard\n",
        "\n",
        "from datetime import datetime\n",
        "import tensorflow as tf\n",
        "from tensorflow import keras\n",
        "import numpy as np\n",
        "```\n",
        "\n"
      ],
      "metadata": {
        "id": "X6HgElsuApH8"
      }
    },
    {
      "cell_type": "code",
      "execution_count": null,
      "metadata": {
        "id": "jOEI5XlN_iMe"
      },
      "outputs": [],
      "source": [
        "# Añade aquí tu código\n"
      ]
    },
    {
      "cell_type": "markdown",
      "source": [
        "1. Crea un dataset típico de un problema de regresión, generando datos en torno a la recta y = 0.4x + 1 añadiendo ruido. El dataset debe tener 1000 casos, y se dedicarán el 80% para el entrenamiento.\n",
        "\n",
        "\n",
        "```\n",
        "data_size = 1000\n",
        "\n",
        "train_size = int(data_size * 0.8)\n",
        "\n",
        "# Create some input data between -1 and 1 and randomize it.\n",
        "x = np.linspace(-1, 1, data_size)\n",
        "np.random.shuffle(x)\n",
        "\n",
        "# Generate the output data.\n",
        "y = 0.4 * x + 1 + np.random.normal(0, 0.05, (data_size, ))\n",
        "\n",
        "# Split into test and train pairs.\n",
        "x_train, y_train = x[:train_size], y[:train_size]\n",
        "x_test, y_test = x[train_size:], y[train_size:]\n",
        "```\n",
        "\n"
      ],
      "metadata": {
        "id": "_yw47rE8BVfQ"
      }
    },
    {
      "cell_type": "code",
      "source": [
        "# Añade aquí tu código\n"
      ],
      "metadata": {
        "id": "kfBBziLrCktG"
      },
      "execution_count": null,
      "outputs": []
    },
    {
      "cell_type": "markdown",
      "source": [
        "2. Crea un modelo basado en una red neuronal de dos capas y configura el entrenamiento utilizando la función de coste del error medio cuadrático MSE y el optimizador SGD (Puedes saber más sobre estos hiperparámetros mirando la documentación de Keras). Para poder utilizar el kit de TensorBoard, es necesario incluir el callback a TensorBoard en el método fit. Para ello, te sugerimos programarlo así:\n",
        "\n",
        "\n",
        "```\n",
        "logdir = \"logs/scalars/\" + datetime.now().strftime(\"%Y%m%d-%H%M%S\")\n",
        "tensorboard_callback = keras.callbacks.TensorBoard(log_dir=logdir)\n",
        "\n",
        "training_history = model.fit(\n",
        "    x_train, # input\n",
        "    y_train, # output\n",
        "    batch_size=train_size,\n",
        "    verbose=0, # Suppress chatty output; use Tensorboard instead\n",
        "    epochs=100,\n",
        "    validation_data=(x_test, y_test),\n",
        "    callbacks=[tensorboard_callback],\n",
        ")\n",
        "\n",
        "print(\"Average test loss: \", np.average(training_history.history['loss']))\n",
        "```\n",
        "\n"
      ],
      "metadata": {
        "id": "ykDNzJvbDLDL"
      }
    },
    {
      "cell_type": "code",
      "source": [
        "# Programa aquí tu modelo:\n",
        "\n",
        "\n",
        "# Programa la configuración de la función de coste y el optimizador aquí:\n",
        "\n",
        "\n",
        "# Escribe ahora el código que te sugerimos:\n",
        "\n"
      ],
      "metadata": {
        "id": "1oBYFYevED5f"
      },
      "execution_count": null,
      "outputs": []
    },
    {
      "cell_type": "markdown",
      "source": [
        "3. Lanza TensorBoard\n",
        "\n",
        "\n",
        "\n",
        "```\n",
        "%tensorboard --logdir logs/scalars\n",
        "```\n",
        "\n",
        "\n",
        " y explora la representación de las métricas en el menú \"Scalars\". Observa la representación de los valores de Loss. ¿A qué conclusiones llegas?"
      ],
      "metadata": {
        "id": "IcaheCegE2GQ"
      }
    },
    {
      "cell_type": "code",
      "source": [
        "# Escribe aquí tu código\n"
      ],
      "metadata": {
        "id": "ch2FSLutE8vh"
      },
      "execution_count": null,
      "outputs": []
    },
    {
      "cell_type": "markdown",
      "source": [
        "4. Utiliza el modelo predictivo, con el método predict() para hallar los valores de y para X=60, X=25 y X=2. Compáralos con los valores exactos calculados con la ecuación de la recta y = 0.4x + 1 (Deberías obtener valores de salida lo más cercanos posible a 25, 11 y 1.8)"
      ],
      "metadata": {
        "id": "j6qXfmJ9Fiqn"
      }
    },
    {
      "cell_type": "code",
      "source": [
        "# Escribe aquí tu código\n"
      ],
      "metadata": {
        "id": "rxnpiBcEFgVL"
      },
      "execution_count": null,
      "outputs": []
    }
  ]
}